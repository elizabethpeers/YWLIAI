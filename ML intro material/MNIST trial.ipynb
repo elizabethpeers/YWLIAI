{
 "cells": [
  {
   "cell_type": "markdown",
   "metadata": {},
   "source": [
    "# Intro to Deep Learning with Keras\n",
    "\n",
    "Use this website to follow the steps:\n"
   ]
  },
  {
   "cell_type": "code",
   "execution_count": 1,
   "metadata": {},
   "outputs": [
    {
     "name": "stderr",
     "output_type": "stream",
     "text": [
      "Using TensorFlow backend.\n"
     ]
    }
   ],
   "source": [
    "import keras\n",
    "from keras.datasets import mnist\n",
    "from keras.models import Sequential\n",
    "from keras.layers import Dense, Dropout\n",
    "from keras.layers import Flatten,  MaxPooling2D, Conv2D\n",
    "from keras.callbacks import TensorBoard"
   ]
  },
  {
   "cell_type": "code",
   "execution_count": 2,
   "metadata": {},
   "outputs": [],
   "source": [
    "(X_train,y_train), (X_test, y_test) = mnist.load_data()\n",
    "\n",
    "X_train = X_train.reshape(60000,28,28,1).astype('float32')\n",
    "X_test = X_test.reshape(10000,28,28,1).astype('float32')\n",
    "\n",
    "X_train /= 255\n",
    "X_test /= 255\n",
    "\n",
    "n_classes = 10\n",
    "y_train = keras.utils.to_categorical(y_train, n_classes)\n",
    "y_test = keras.utils.to_categorical(y_test, n_classes)"
   ]
  },
  {
   "cell_type": "code",
   "execution_count": 3,
   "metadata": {},
   "outputs": [
    {
     "name": "stdout",
     "output_type": "stream",
     "text": [
      "WARNING:tensorflow:From C:\\Users\\lizzi\\Anaconda3\\envs\\thesis2\\lib\\site-packages\\tensorflow\\python\\framework\\op_def_library.py:263: colocate_with (from tensorflow.python.framework.ops) is deprecated and will be removed in a future version.\n",
      "Instructions for updating:\n",
      "Colocations handled automatically by placer.\n",
      "WARNING:tensorflow:From C:\\Users\\lizzi\\Anaconda3\\envs\\thesis2\\lib\\site-packages\\keras\\backend\\tensorflow_backend.py:3445: calling dropout (from tensorflow.python.ops.nn_ops) with keep_prob is deprecated and will be removed in a future version.\n",
      "Instructions for updating:\n",
      "Please use `rate` instead of `keep_prob`. Rate should be set to `rate = 1 - keep_prob`.\n"
     ]
    }
   ],
   "source": [
    "model = Sequential()\n",
    "model.add(Conv2D(32, kernel_size=(3,3), activation='relu', input_shape=(28,28,1)) )\n",
    "model.add(Conv2D(64, kernel_size=(3,3), activation='relu'))\n",
    "model.add(MaxPooling2D(pool_size=(2,2)))\n",
    "model.add(Dropout(0.25))\n",
    "model.add(Flatten())          \n",
    "model.add(Dense(128, activation='relu'))\n",
    "model.add(Dropout(0.5))\n",
    "model.add(Dense(n_classes, activation='softmax'))"
   ]
  },
  {
   "cell_type": "code",
   "execution_count": 4,
   "metadata": {},
   "outputs": [],
   "source": [
    "model.compile(loss='categorical_crossentropy', optimizer='adam', metrics=['accuracy'])"
   ]
  },
  {
   "cell_type": "code",
   "execution_count": 5,
   "metadata": {},
   "outputs": [],
   "source": [
    "tensor_board = TensorBoard('./logs/LeNet-MNIST-1')"
   ]
  },
  {
   "cell_type": "code",
   "execution_count": 6,
   "metadata": {},
   "outputs": [
    {
     "name": "stderr",
     "output_type": "stream",
     "text": [
      "[========================================================================] 100%\n"
     ]
    }
   ],
   "source": [
    "import progressbar\n",
    "from time import sleep\n",
    "bar = progressbar.ProgressBar(maxval=20, \\\n",
    "    widgets=[progressbar.Bar('=', '[', ']'), ' ', progressbar.Percentage()])\n",
    "bar.start()\n",
    "for i in range(20):\n",
    "    bar.update(i+1)\n",
    "    sleep(0.1)\n",
    "bar.finish()"
   ]
  },
  {
   "cell_type": "code",
   "execution_count": 7,
   "metadata": {},
   "outputs": [
    {
     "name": "stdout",
     "output_type": "stream",
     "text": [
      "WARNING:tensorflow:From C:\\Users\\lizzi\\Anaconda3\\envs\\thesis2\\lib\\site-packages\\tensorflow\\python\\ops\\math_ops.py:3066: to_int32 (from tensorflow.python.ops.math_ops) is deprecated and will be removed in a future version.\n",
      "Instructions for updating:\n",
      "Use tf.cast instead.\n",
      "Train on 60000 samples, validate on 10000 samples\n",
      "Epoch 1/15\n",
      "60000/60000 [==============================] - 8s 130us/step - loss: 0.2470 - acc: 0.9253 - val_loss: 0.0566 - val_acc: 0.9810\n",
      "Epoch 2/15\n",
      "60000/60000 [==============================] - 6s 100us/step - loss: 0.0860 - acc: 0.9737 - val_loss: 0.0436 - val_acc: 0.9859\n",
      "Epoch 3/15\n",
      "60000/60000 [==============================] - 6s 100us/step - loss: 0.0649 - acc: 0.9813 - val_loss: 0.0334 - val_acc: 0.9883\n",
      "Epoch 4/15\n",
      "60000/60000 [==============================] - 6s 103us/step - loss: 0.0524 - acc: 0.9839 - val_loss: 0.0305 - val_acc: 0.9893\n",
      "Epoch 5/15\n",
      "60000/60000 [==============================] - 6s 101us/step - loss: 0.0451 - acc: 0.9856 - val_loss: 0.0275 - val_acc: 0.9915\n",
      "Epoch 6/15\n",
      "60000/60000 [==============================] - 6s 105us/step - loss: 0.0401 - acc: 0.9872 - val_loss: 0.0257 - val_acc: 0.9924\n",
      "Epoch 7/15\n",
      "60000/60000 [==============================] - 6s 102us/step - loss: 0.0368 - acc: 0.9881 - val_loss: 0.0253 - val_acc: 0.9916\n",
      "Epoch 8/15\n",
      "60000/60000 [==============================] - 6s 101us/step - loss: 0.0318 - acc: 0.9899 - val_loss: 0.0269 - val_acc: 0.9926\n",
      "Epoch 9/15\n",
      "60000/60000 [==============================] - 6s 101us/step - loss: 0.0284 - acc: 0.9911 - val_loss: 0.0288 - val_acc: 0.9916\n",
      "Epoch 10/15\n",
      "60000/60000 [==============================] - 6s 106us/step - loss: 0.0269 - acc: 0.9914 - val_loss: 0.0259 - val_acc: 0.9928\n",
      "Epoch 11/15\n",
      "60000/60000 [==============================] - 6s 101us/step - loss: 0.0256 - acc: 0.9917 - val_loss: 0.0290 - val_acc: 0.9922\n",
      "Epoch 12/15\n",
      "60000/60000 [==============================] - 6s 103us/step - loss: 0.0232 - acc: 0.9920 - val_loss: 0.0281 - val_acc: 0.9923\n",
      "Epoch 13/15\n",
      "60000/60000 [==============================] - 6s 100us/step - loss: 0.0211 - acc: 0.9935 - val_loss: 0.0300 - val_acc: 0.9918\n",
      "Epoch 14/15\n",
      "60000/60000 [==============================] - 6s 106us/step - loss: 0.0197 - acc: 0.9934 - val_loss: 0.0284 - val_acc: 0.9926\n",
      "Epoch 15/15\n",
      "60000/60000 [==============================] - 6s 100us/step - loss: 0.0191 - acc: 0.9936 - val_loss: 0.0258 - val_acc: 0.9930\n"
     ]
    },
    {
     "data": {
      "text/plain": [
       "<keras.callbacks.History at 0x18a90691710>"
      ]
     },
     "execution_count": 7,
     "metadata": {},
     "output_type": "execute_result"
    }
   ],
   "source": [
    "model.fit(X_train, y_train, batch_size=128, epochs=15, verbose=1,validation_data=(X_test,y_test), callbacks=[tensor_board])"
   ]
  },
  {
   "cell_type": "code",
   "execution_count": null,
   "metadata": {},
   "outputs": [],
   "source": []
  }
 ],
 "metadata": {
  "kernelspec": {
   "display_name": "TensorFlow-GPU",
   "language": "python",
   "name": "tf-gpu"
  },
  "language_info": {
   "codemirror_mode": {
    "name": "ipython",
    "version": 3
   },
   "file_extension": ".py",
   "mimetype": "text/x-python",
   "name": "python",
   "nbconvert_exporter": "python",
   "pygments_lexer": "ipython3",
   "version": "3.6.8"
  }
 },
 "nbformat": 4,
 "nbformat_minor": 2
}
